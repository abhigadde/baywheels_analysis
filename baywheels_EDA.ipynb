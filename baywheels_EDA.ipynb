{
 "cells": [
  {
   "cell_type": "markdown",
   "id": "cad5c650",
   "metadata": {},
   "source": [
    "Goals\n",
    "1. Explore the data and get some interesting statistics - like ride count, avg duration, etc..\n",
    "2. See how our 2 variables user_type and bike_share_for_all_trip affect the variables. E.g. do different user types have different usage patterns\n",
    "3. Examing usage based on time of day, time of month, time of year and overall trend over past 5 years of data\n",
    "\n",
    "BONUS: Get hourly or daily weather high and see how that affects riding patterns\n",
    "\n",
    "BONUS 2: Upload dataset into Tableau to allow end user to visualize different segments of data easily. < First part done. Seocnd part also directly connect Amazon S3 bucket to Tableau instead of using an offline csv file.\n",
    "\n",
    "BONUS 3: See if can utilize PCA (principal component analysis) anywhere. I don't think this data is complex enough to need this but we can look into that"
   ]
  },
  {
   "cell_type": "code",
   "execution_count": 9,
   "id": "7af85a41",
   "metadata": {},
   "outputs": [],
   "source": [
    "#I will utilize some code from my past web scraping project and tweak it for this project.\n",
    "#I will use selenium since that is what I have used in the past and is what I am familiar with\n",
    "\n",
    "#This currently looks up certain fields for you and enters them into the website. \n",
    "#Next would be to automate this to run through all 4 designations I want. Do that at end. Also make cleaner later.\n",
    "import requests\n",
    "import time\n",
    "from selenium import webdriver\n",
    "from selenium.webdriver.common.keys import Keys\n",
    "from bs4 import BeautifulSoup\n",
    "import re\n",
    "import pandas as pd\n",
    "from tabulate import tabulate\n",
    "import os\n",
    "import math\n",
    "import regex as re \n",
    "from selenium.webdriver.support.ui import Select\n",
    "\n",
    "from zipfile import ZipFile\n",
    "from selenium.webdriver.common.by import By\n",
    "from selenium.webdriver.support.ui import WebDriverWait\n",
    "from selenium.webdriver.support import expected_conditions as EC\n",
    "from selenium.webdriver.common.by import By\n",
    "from decimal import Decimal\n",
    "import numpy as np\n",
    "import pandas as pd\n",
    "import math\n",
    "import os\n",
    "import io\n",
    "\n",
    "from datetime import datetime\n",
    "from datetime import date\n",
    "import matplotlib.pyplot as plt\n",
    "import matplotlib\n",
    "import seaborn as sns\n",
    "from sklearn.metrics import r2_score\n",
    "import boto3 \n",
    "\n",
    "import warnings\n",
    "warnings.filterwarnings(\"ignore\")"
   ]
  },
  {
   "cell_type": "code",
   "execution_count": null,
   "id": "55d49cba",
   "metadata": {},
   "outputs": [],
   "source": [
    "#First Pull data frame from AWS S3. We have a local copy but this is for user who don't have that.\n",
    "#Note to configue your AWS CLI before pulling. Hopefully by the time you are looking at this code the S3 containing the data\n",
    "#will be public and easy to pull from. I will provide credentials below if that is the case.\n",
    "\n",
    "import boto3\n",
    "\n",
    "# Create an S3 access object\n",
    "s3 = boto3.client(\"s3\")\n",
    "\n",
    "s3.download_file(\n",
    "    Bucket=\"baywheels.data\", Key=\"final_data.csv\", Filename=\"aws_data/final_data_download.csv\"\n",
    ")\n"
   ]
  },
  {
   "cell_type": "code",
   "execution_count": 10,
   "id": "93a268d9",
   "metadata": {},
   "outputs": [],
   "source": [
    "#pull file and dictate data types\n",
    "type_dict = {'user_type': 'str', 'bike_share_for_all_trip': 'str'}\n",
    "df = pd.read_csv('aws_data/final_data_download.csv', parse_dates = ['start_time', 'end_time'])"
   ]
  },
  {
   "cell_type": "code",
   "execution_count": 11,
   "id": "4ec07ceb",
   "metadata": {},
   "outputs": [
    {
     "data": {
      "text/plain": [
       "Unnamed: 0                          int64\n",
       "start_time                 datetime64[ns]\n",
       "end_time                   datetime64[ns]\n",
       "user_type                          object\n",
       "bike_share_for_all_trip            object\n",
       "dtype: object"
      ]
     },
     "execution_count": 11,
     "metadata": {},
     "output_type": "execute_result"
    }
   ],
   "source": [
    "#Can deal with the 2 object type variables later. They should be strings\n",
    "df.dtypes"
   ]
  },
  {
   "cell_type": "code",
   "execution_count": 12,
   "id": "a7af2b2e",
   "metadata": {},
   "outputs": [],
   "source": [
    "#calculation duration of ride time in minutes\n",
    "df['duration'] = (df['end_time'] - df['start_time']).dt.total_seconds()/60"
   ]
  },
  {
   "cell_type": "markdown",
   "id": "a65cf552",
   "metadata": {},
   "source": [
    "Let us answer some questions to get to know our data better\n",
    "1. What is total ride time by time of day, time of week and time of year\n",
    "2. What is average duration by time of day, time of week and time of year\n",
    "3. How many rides were req. by time of day, time of week and time of year\n",
    "4. Do different types of user (subscribers vs. non-subscribers) have different riding habits (since they are billed differently)\n"
   ]
  },
  {
   "cell_type": "code",
   "execution_count": 13,
   "id": "b3fb9382",
   "metadata": {},
   "outputs": [
    {
     "name": "stdout",
     "output_type": "stream",
     "text": [
      "Total Avg ride duration is:  17.64  minutes\n"
     ]
    }
   ],
   "source": [
    "#Question 1\n",
    "#Avg duration\n",
    "print(\"Total Avg ride duration is: \",round(df['duration'].mean(),2),\" minutes\")\n"
   ]
  },
  {
   "cell_type": "code",
   "execution_count": 14,
   "id": "89c6949a",
   "metadata": {},
   "outputs": [
    {
     "name": "stdout",
     "output_type": "stream",
     "text": [
      "                         duration\n",
      "bike_share_for_all_trip          \n",
      "No                        3787344\n",
      "Yes                        339886\n",
      "NaN                       5690561\n",
      "                                  duration           \n",
      "                                     count       mean\n",
      "user_type bike_share_for_all_trip                    \n",
      "casual    No                        682610  27.288248\n",
      "member    No                       3104734  11.056553\n",
      "          Yes                       339886  12.227283\n"
     ]
    }
   ],
   "source": [
    "#Note we don't have bike_share_for_all_trip info for all months, it was only collected for some of the months.\n",
    "#So this is NOT useful to discern what % of total members were bike_share_for_all but this helps us see diff in riding habits\n",
    "\n",
    "print(df.groupby('bike_share_for_all_trip', dropna= False).agg({'duration': 'count'}))\n",
    "\n",
    "print(df.groupby(['user_type','bike_share_for_all_trip']).agg({'duration': ['count','mean']}))"
   ]
  },
  {
   "cell_type": "markdown",
   "id": "d62c9ad2",
   "metadata": {},
   "source": [
    "It is clear non-members ride for longer. I hypothesize non members also dont ride as freq. Sadly we do not have customer info in the provided data so we can not validate this hypothesis. It doesn't seem like members in the \"bike share for all\" program ride any longer or shorter than normal members"
   ]
  },
  {
   "cell_type": "code",
   "execution_count": 15,
   "id": "6388dba6",
   "metadata": {},
   "outputs": [
    {
     "data": {
      "image/png": "[encoded data removed]",
      "text/plain": [
       "<Figure size 432x288 with 3 Axes>"
      ]
     },
     "metadata": {
      "needs_background": "light"
     },
     "output_type": "display_data"
    }
   ],
   "source": [
    "#Looking at average duration of ride\n",
    "\n",
    "df_ssn = df[['start_time','duration']]\n",
    "df_ssn = df_ssn['duration']\n",
    "\n",
    "#Group by hour\n",
    "plt.subplot(3, 1, 1)\n",
    "df_ssn.groupby(df['start_time'].dt.strftime('%H')).mean().plot()\n",
    "\n",
    "#Group by day\n",
    "plt.subplot(3, 1, 2)\n",
    "df_ssn.groupby(df['start_time'].dt.strftime('%d')).mean().plot()\n",
    "\n",
    "#Group by month\n",
    "plt.subplot(3, 1, 3)\n",
    "df_ssn.groupby(df['start_time'].dt.strftime('%m')).mean().plot()\n",
    "\n",
    "plt.tight_layout()\n",
    "plt.show()"
   ]
  },
  {
   "cell_type": "code",
   "execution_count": 16,
   "id": "bd77e169",
   "metadata": {},
   "outputs": [
    {
     "data": {
      "image/png": "[encoded data removed]",
      "text/plain": [
       "<Figure size 432x288 with 3 Axes>"
      ]
     },
     "metadata": {
      "needs_background": "light"
     },
     "output_type": "display_data"
    }
   ],
   "source": [
    "#Looking at ride freq (aka ride count) stats\n",
    "#Group by hour\n",
    "plt.subplot(3, 1, 1)\n",
    "df_ssn.groupby(df['start_time'].dt.strftime('%H')).count().plot()\n",
    "\n",
    "#Group by day\n",
    "plt.subplot(3, 1, 2)\n",
    "df_ssn.groupby(df['start_time'].dt.strftime('%d')).count().plot()\n",
    "\n",
    "#Group by month\n",
    "plt.subplot(3, 1, 3)\n",
    "df_ssn.groupby(df['start_time'].dt.strftime('%m')).count().plot()\n",
    "\n",
    "plt.tight_layout()\n",
    "plt.show()"
   ]
  },
  {
   "cell_type": "markdown",
   "id": "69b49dc2",
   "metadata": {},
   "source": [
    "The graphs could be cleaner in python. Note that instead of spending time trying to visualize in python since the data source is small enough, we can just put it in Tableau and explore it that way, which is what we did next."
   ]
  }
 ],
 "metadata": {
  "kernelspec": {
   "display_name": "Python 3 (ipykernel)",
   "language": "python",
   "name": "python3"
  },
  "language_info": {
   "codemirror_mode": {
    "name": "ipython",
    "version": 3
   },
   "file_extension": ".py",
   "mimetype": "text/x-python",
   "name": "python",
   "nbconvert_exporter": "python",
   "pygments_lexer": "ipython3",
   "version": "3.9.7"
  }
 },
 "nbformat": 4,
 "nbformat_minor": 5
}
