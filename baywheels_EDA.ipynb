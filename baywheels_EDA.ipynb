{
 "cells": [
  {
   "cell_type": "markdown",
   "id": "cad5c650",
   "metadata": {},
   "source": [
    "Goals\n",
    "1. Explore the data and get some interesting statistics - like ride count, avg duration, etc..\n",
    "2. See how our 2 variables user_type and bike_share_for_all_trip affect the variables. E.g. do different user types have different usage patterns\n",
    "3. Examing usage based on time of day, time of month, time of year and overall trend over past 5 years of data\n",
    "\n",
    "BONUS: Get hourly or daily weather high and see how that affects riding patterns"
   ]
  },
  {
   "cell_type": "code",
   "execution_count": 4,
   "id": "7af85a41",
   "metadata": {},
   "outputs": [],
   "source": [
    "#I will utilize some code from my past web scraping project and tweak it for this project.\n",
    "#I will use selenium since that is what I have used in the past and is what I am familiar with\n",
    "\n",
    "#This currently looks up certain fields for you and enters them into the website. \n",
    "#Next would be to automate this to run through all 4 designations I want. Do that at end. Also make cleaner later.\n",
    "import requests\n",
    "import time\n",
    "from selenium import webdriver\n",
    "from selenium.webdriver.common.keys import Keys\n",
    "from bs4 import BeautifulSoup\n",
    "import re\n",
    "import pandas as pd\n",
    "from tabulate import tabulate\n",
    "import os\n",
    "import math\n",
    "import regex as re \n",
    "from selenium.webdriver.support.ui import Select\n",
    "\n",
    "from zipfile import ZipFile\n",
    "from selenium.webdriver.common.by import By\n",
    "from selenium.webdriver.support.ui import WebDriverWait\n",
    "from selenium.webdriver.support import expected_conditions as EC\n",
    "from selenium.webdriver.common.by import By\n",
    "from decimal import Decimal\n",
    "import numpy as np\n",
    "import pandas as pd\n",
    "import math\n",
    "import os\n",
    "import io\n",
    "\n",
    "from datetime import datetime\n",
    "from datetime import date\n",
    "import matplotlib.pyplot as plt\n",
    "import matplotlib\n",
    "import seaborn as sns\n",
    "from sklearn.metrics import r2_score\n",
    "import boto3 \n",
    "\n",
    "import warnings\n",
    "warnings.filterwarnings(\"ignore\")"
   ]
  },
  {
   "cell_type": "code",
   "execution_count": 26,
   "id": "55d49cba",
   "metadata": {},
   "outputs": [],
   "source": [
    "#First Pull data frame from AWS S3. We have a local copy but this is for user who don't have that.\n",
    "#Note to configue your AWS CLI before pulling. Hopefully by the time you are looking at this code the S3 containing the data\n",
    "#will be public and easy to pull from. I will provide credentials below if that is the case.\n",
    "\n",
    "import boto3\n",
    "\n",
    "# Create an S3 access object\n",
    "s3 = boto3.client(\"s3\")\n",
    "\n",
    "s3.download_file(\n",
    "    Bucket=\"baywheels.data\", Key=\"final_data.csv\", Filename=\"aws_data/final_data_download.csv\"\n",
    ")\n"
   ]
  },
  {
   "cell_type": "code",
   "execution_count": 27,
   "id": "93a268d9",
   "metadata": {},
   "outputs": [],
   "source": [
    "#Make sure to change the below to pull from the AWS download instead of my local copy\n",
    "type_dict = {'user_type': 'str', 'bike_share_for_all_trip': 'str'}\n",
    "df = pd.read_csv('aws_data/final_data_download.csv', parse_dates = ['start_time', 'end_time'])"
   ]
  },
  {
   "cell_type": "code",
   "execution_count": 28,
   "id": "4ec07ceb",
   "metadata": {},
   "outputs": [
    {
     "data": {
      "text/plain": [
       "Unnamed: 0                          int64\n",
       "start_time                 datetime64[ns]\n",
       "end_time                   datetime64[ns]\n",
       "user_type                          object\n",
       "bike_share_for_all_trip            object\n",
       "dtype: object"
      ]
     },
     "execution_count": 28,
     "metadata": {},
     "output_type": "execute_result"
    }
   ],
   "source": [
    "#Can deal with the 2 object type variables later. They should be strings\n",
    "df.dtypes"
   ]
  },
  {
   "cell_type": "code",
   "execution_count": 29,
   "id": "a7af2b2e",
   "metadata": {},
   "outputs": [],
   "source": [
    "#calculation duration of ride time\n",
    "df['duration'] = (df['end_time'] - df['start_time']).dt.total_seconds()"
   ]
  }
 ],
 "metadata": {
  "kernelspec": {
   "display_name": "Python 3 (ipykernel)",
   "language": "python",
   "name": "python3"
  },
  "language_info": {
   "codemirror_mode": {
    "name": "ipython",
    "version": 3
   },
   "file_extension": ".py",
   "mimetype": "text/x-python",
   "name": "python",
   "nbconvert_exporter": "python",
   "pygments_lexer": "ipython3",
   "version": "3.9.7"
  }
 },
 "nbformat": 4,
 "nbformat_minor": 5
}
