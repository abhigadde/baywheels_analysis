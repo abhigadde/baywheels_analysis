{
  "nbformat": 4,
  "nbformat_minor": 0,
  "metadata": {
    "colab": {
      "name": "Bay Wheels Lyft data",
      "provenance": [],
      "authorship_tag": "ABX9TyMskdCRLydEdxzRj2v6vFRr",
      "include_colab_link": true
    },
    "kernelspec": {
      "name": "python3",
      "display_name": "Python 3"
    },
    "language_info": {
      "name": "python"
    }
  },
  "cells": [
    {
      "cell_type": "markdown",
      "metadata": {
        "id": "view-in-github",
        "colab_type": "text"
      },
      "source": [
        "<a href=\"https://colab.research.google.com/github/abhigadde/baywheels_analysis/blob/main/Bay_Wheels_Lyft_data.ipynb\" target=\"_parent\"><img src=\"https://colab.research.google.com/assets/colab-badge.svg\" alt=\"Open In Colab\"/></a>"
      ]
    },
    {
      "cell_type": "code",
      "execution_count": null,
      "metadata": {
        "id": "qPj0rCI2WVVv"
      },
      "outputs": [],
      "source": [
        "#Here I will do an end-to-end data science project on the lyft bay wheels data. I will attempt a minimum viable product in 1 week"
      ]
    }
  ]
}